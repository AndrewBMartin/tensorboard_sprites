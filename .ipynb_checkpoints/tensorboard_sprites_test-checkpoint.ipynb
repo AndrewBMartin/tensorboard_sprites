{
 "cells": [
  {
   "cell_type": "code",
   "execution_count": 1,
   "metadata": {},
   "outputs": [
    {
     "name": "stderr",
     "output_type": "stream",
     "text": [
      "Using TensorFlow backend.\n"
     ]
    }
   ],
   "source": [
    "import csv\n",
    "import sys\n",
    "import requests\n",
    "import skimage.io\n",
    "import os\n",
    "import glob\n",
    "import pickle\n",
    "import json\n",
    "import time\n",
    "\n",
    "from IPython.display import display, Image, HTML\n",
    "from keras.applications import VGG16\n",
    "from keras.applications.vgg16 import preprocess_input\n",
    "from keras.preprocessing import image as kimage\n",
    "import numpy as np\n",
    "import pandas as pd\n",
    "import scipy.sparse as sp\n",
    "import skimage.io"
   ]
  },
  {
   "cell_type": "code",
   "execution_count": null,
   "metadata": {
    "collapsed": true
   },
   "outputs": [],
   "source": [
    "IMAGES_FOLDER = '/users/andrewmartin/andrew_notebooks/logos_tensorboard/XO_images'\n",
    "model = VGG16(include_top=False, weights='imagenet')\n",
    "image_files = glob.glob(os.path.join(IMAGES_FOLDER, \"*.png\"))"
   ]
  },
  {
   "cell_type": "code",
   "execution_count": null,
   "metadata": {},
   "outputs": [
    {
     "name": "stdout",
     "output_type": "stream",
     "text": [
      "200: 0.002083425521850586\n",
      "400: 0.0010021507740020752\n",
      "450: 0.0002155998018052843\n",
      "Preprocess input\n",
      "0.17142200469970703\n",
      "Predicting\n"
     ]
    }
   ],
   "source": [
    "get_mid = lambda x: x.split(os.path.sep)[-1].split('_')[0]\n",
    "\n",
    "idx_to_mid = {}\n",
    "batch_size = 500\n",
    "min_idx = 0\n",
    "max_idx = min_idx + batch_size if len(image_files) > batch_size else len(image_files)\n",
    "total_max = len(image_files)\n",
    "n_dims = 25088#pred.ravel().shape[0]\n",
    "px = 224\n",
    "\n",
    "# Initialize predictions matrix\n",
    "preds = sp.lil_matrix((len(image_files), n_dims))\n",
    "\n",
    "while min_idx < total_max - 1:\n",
    "    t0 = time.time()\n",
    "    \n",
    "    X = np.zeros(((max_idx - min_idx), px, px, 3))\n",
    "    \n",
    "    # For each file in batch, \n",
    "    # load as row into X\n",
    "    for i in range(min_idx, max_idx):\n",
    "        fname = image_files[i]\n",
    "        mid = get_mid(fname)\n",
    "        idx_to_mid[i] = mid\n",
    "        img = kimage.load_img(fname, target_size=(px, px))\n",
    "        img_array = kimage.img_to_array(img)\n",
    "        X[i - min_idx, :, :, :] = img_array\n",
    "        if i % 200 == 0 and i != 0:\n",
    "            t1 = time.time()\n",
    "            print('{}: {}'.format(i, (t1 - t0) / i))\n",
    "            t0 = time.time()\n",
    "    max_idx = i\n",
    "    t1 = time.time()\n",
    "    print('{}: {}'.format(i, (t1 - t0) / i))\n",
    "    \n",
    "    print('Preprocess input')\n",
    "    t0 = time.time()\n",
    "    X = preprocess_input(X)\n",
    "    t1 = time.time()\n",
    "    print('{}'.format(t1 - t0))\n",
    "    \n",
    "    print('Predicting')\n",
    "    t0 = time.time()\n",
    "    these_preds = model.predict(X)\n",
    "    shp = ((max_idx - min_idx) + 1, n_dims)\n",
    "    \n",
    "    # Place predictions inside full preds matrix.\n",
    "    preds[min_idx:max_idx + 1, :] = these_preds.reshape(shp)\n",
    "    t1 = time.time()\n",
    "    print('{}'.format(t1 - t0))\n",
    "    \n",
    "    min_idx = max_idx\n",
    "    max_idx = np.min((max_idx + batch_size, total_max))"
   ]
  },
  {
   "cell_type": "code",
   "execution_count": 7,
   "metadata": {
    "collapsed": true
   },
   "outputs": [],
   "source": [
    "def cosine_similarity(ratings):\n",
    "    sim = ratings.dot(ratings.T)\n",
    "    if not isinstance(sim, np.ndarray):\n",
    "        sim = sim.toarray()\n",
    "    norms = np.array([np.sqrt(np.diagonal(sim))])\n",
    "    return (sim / norms / norms.T)"
   ]
  },
  {
   "cell_type": "code",
   "execution_count": null,
   "metadata": {
    "collapsed": true
   },
   "outputs": [],
   "source": [
    "from PIL import Image\n",
    "from IPython.display import display\n",
    "from matplotlib import pyplot as plt\n",
    "\n",
    "def random_similar(idx):\n",
    "    img = Image.open(image_files[idx])\n",
    "    row = sim[idx, :]\n",
    "    similar = np.argsort(-row)[:10]\n",
    "\n",
    "    sim_imgs = [Image.open(image_files[ima]) for ima in similar]\n",
    "    display(img, sim_imgs[2], sim_imgs[3], sim_imgs[4])"
   ]
  },
  {
   "cell_type": "code",
   "execution_count": 8,
   "metadata": {
    "collapsed": true
   },
   "outputs": [],
   "source": [
    "sim = cosine_similarity(preds)"
   ]
  },
  {
   "cell_type": "code",
   "execution_count": null,
   "metadata": {
    "collapsed": true
   },
   "outputs": [],
   "source": [
    "random_similar(24)"
   ]
  },
  {
   "cell_type": "code",
   "execution_count": 4,
   "metadata": {
    "collapsed": true
   },
   "outputs": [],
   "source": [
    "\"\"\"\n",
    "17 May 2019\n",
    "\n",
    "Prepare images and vectors for tensorboard visualisation.\n",
    "\n",
    "Take an array of high dimensional vectors and associated images.\n",
    "\n",
    "Perform dimensionality reduction on vectors. Compose images into\n",
    "sprites.\n",
    "\n",
    "Write TensorFlow summaries so that this data can be viewed in tensorboard.\n",
    "\n",
    "Notes:\n",
    "TensorFlow graphs have a max size of 2Gb so large numbers of high dimensional\n",
    "vectors may not work.\n",
    "\n",
    "Tensorboard can handle a max sprite size of 8192 x 8192 so you may want to limit\n",
    "the number of images you're using to 8192.\n",
    "\"\"\"\n",
    "import os\n",
    "import glob\n",
    "import math\n",
    "\n",
    "import cv2\n",
    "import numpy as np\n",
    "import tensorflow as tf\n",
    "from tensorflow.contrib.tensorboard.plugins import projector\n",
    "from sklearn.decomposition import PCA\n",
    "from PIL import Image"
   ]
  },
  {
   "cell_type": "code",
   "execution_count": 9,
   "metadata": {
    "collapsed": true
   },
   "outputs": [],
   "source": [
    "pca = PCA(n_components=10)\n",
    "reduced_data = pca.fit_transform(sim)\n",
    "#pca.explained_variance_ratio_ "
   ]
  },
  {
   "cell_type": "code",
   "execution_count": 15,
   "metadata": {
    "collapsed": true
   },
   "outputs": [],
   "source": [
    "PATH = os.getcwd()\n",
    "LOG_DIR = os.path.join(PATH, 'tensorboard_logs')\n",
    "NUMBER_SAMPLES = 8191 # Max sprite size is 8192 x 8192 so this size makes viz easy\n",
    "METADATA_FILE = os.path.join(LOG_DIR, 'metadata_1.tsv')\n",
    "\n",
    "features = tf.Variable(reduced_data, name='features')\n",
    "# Create metadata\n",
    "# Can include class data in here if interested / have available\n",
    "with open(METADATA_FILE, 'w+') as wrf:\n",
    "    wrf.write(\"\\n\".join([str(a) for a,i in enumerate(image_files)]))"
   ]
  },
  {
   "cell_type": "code",
   "execution_count": 11,
   "metadata": {
    "collapsed": true
   },
   "outputs": [],
   "source": [
    "def images_to_sprite(data):\n",
    "    \"\"\"Create the sprite image along with any necessary padding\"\"\"\n",
    "    \n",
    "    if len(data.shape) == 3:\n",
    "        data = np.tile(data[...,np.newaxis], (1,1,1,3))\n",
    "    #data = data.astype(np.float32)\n",
    "    #min = np.min(data.reshape((data.shape[0], -1)), axis=1)\n",
    "    #data = (data.transpose(1,2,3,0) - min).transpose(3,0,1,2)\n",
    "    #max = np.max(data.reshape((data.shape[0], -1)), axis=1)\n",
    "    #data = (data.transpose(1,2,3,0) / max).transpose(3,0,1,2)\n",
    "\n",
    "    n = int(np.ceil(np.sqrt(data.shape[0])))\n",
    "    padding = ((0, n ** 2 - data.shape[0]), (0, 0),\n",
    "            (0, 0)) + ((0, 0),) * (data.ndim - 3)\n",
    "    data = np.pad(data, padding, mode='constant',\n",
    "            constant_values=0)\n",
    "    \n",
    "    # Tile the individual thumbnails into an image.\n",
    "    data = data.reshape((n, n) + data.shape[1:]).transpose((0, 2, 1, 3, 4))\n",
    "    data = data.reshape((n * data.shape[1], n * data.shape[3]) + data.shape[4:])\n",
    "    return data"
   ]
  },
  {
   "cell_type": "code",
   "execution_count": null,
   "metadata": {
    "collapsed": true
   },
   "outputs": [],
   "source": [
    "def images_to_sprite(data):\n",
    "    \"\"\"Create the sprite image along with any necessary padding\"\"\"\n",
    "    \n",
    "    if len(data.shape) == 3:\n",
    "        data = np.tile(data[...,np.newaxis], (1,1,1,3))\n",
    "    n = int(np.ceil(np.sqrt(data.shape[0])))\n",
    "    padding = ((0, n ** 2 - data.shape[0]), (0, 0), (0, 0), (0, 0)) \n",
    "    data = np.pad(data, padding, mode='constant',\n",
    "            constant_values=0)"
   ]
  },
  {
   "cell_type": "code",
   "execution_count": 19,
   "metadata": {
    "collapsed": true
   },
   "outputs": [],
   "source": [
    "data = np.array([i for i in img_data])\n",
    "min = np.min(data.reshape((data.shape[0], -1)), axis=1)"
   ]
  },
  {
   "cell_type": "code",
   "execution_count": 31,
   "metadata": {},
   "outputs": [
    {
     "data": {
      "text/plain": [
       "(451, 12288)"
      ]
     },
     "execution_count": 31,
     "metadata": {},
     "output_type": "execute_result"
    }
   ],
   "source": [
    "data.reshape((data.shape[0]), -1).shape"
   ]
  },
  {
   "cell_type": "code",
   "execution_count": 105,
   "metadata": {
    "collapsed": true
   },
   "outputs": [],
   "source": [
    "image_files = glob.glob(os.path.join(IMAGES_FOLDER, \"*.png\"))\n",
    "img_data=[]\n",
    "for img in image_files[:NUMBER_SAMPLES]:\n",
    "    input_img = cv2.imread(img)\n",
    "    input_img_resize = cv2.resize(input_img, IMAGE_SIZE) # you can choose what size to resize your data\n",
    "    img_data.append(input_img_resize)\n",
    "data = np.array(img_data)\n",
    "\n",
    "n = int(np.ceil(np.sqrt(data.shape[0])))\n",
    "padding = ((0, n ** 2 - data.shape[0]), (0, 0),\n",
    "        (0, 0)) + ((0, 0),) * (data.ndim - 3)\n",
    "data = np.pad(data, padding, mode='constant',\n",
    "        constant_values=0)\n",
    "\n",
    "# Tile the individual thumbnails into an image.\n",
    "data = data.reshape((n, n) + data.shape[1:]).transpose((0, 2, 1, 3)\n",
    "        + tuple(range(4, data.ndim + 1)))\n",
    "data = data.reshape((n * data.shape[1], n * data.shape[3]) + data.shape[4:])"
   ]
  },
  {
   "cell_type": "code",
   "execution_count": 56,
   "metadata": {
    "collapsed": true
   },
   "outputs": [],
   "source": [
    "padding\n",
    "test_pad = ((0, 33), (0, 0))"
   ]
  },
  {
   "cell_type": "code",
   "execution_count": 76,
   "metadata": {},
   "outputs": [
    {
     "data": {
      "text/plain": [
       "(451, 64, 64, 3)"
      ]
     },
     "execution_count": 76,
     "metadata": {},
     "output_type": "execute_result"
    }
   ],
   "source": [
    "data = np.array(img_data)\n",
    "data.shape"
   ]
  },
  {
   "cell_type": "code",
   "execution_count": 77,
   "metadata": {},
   "outputs": [
    {
     "name": "stdout",
     "output_type": "stream",
     "text": [
      "(484, 64, 64, 3)\n",
      "(484, 64, 64, 3)\n"
     ]
    }
   ],
   "source": [
    "# Tile the individual thumbnails into an image.\n",
    "n = int(np.ceil(np.sqrt(data.shape[0])))\n",
    "padding = ((0, n ** 2 - data.shape[0]), (0, 0),\n",
    "        (0, 0)) + ((0, 0),) * (data.ndim - 3)\n",
    "data = np.pad(data, padding, mode='constant',\n",
    "        constant_values=0)\n",
    "\n",
    "print(data.shape)\n",
    "#data = data.reshape((n, n) + data.shape[1:]).transpose((0, 2, 1, 3)\n",
    "#        + tuple(range(4, data.ndim + 1)))\n",
    "print(data.shape)\n",
    "#data = data.reshape((n * data.shape[1], n * data.shape[3]) + data.shape[4:])\n",
    "#data = (data * 255).astype(np.uint8)\n",
    "#return data"
   ]
  },
  {
   "cell_type": "code",
   "execution_count": 79,
   "metadata": {},
   "outputs": [
    {
     "name": "stdout",
     "output_type": "stream",
     "text": [
      "(22, 22, 64, 64, 3)\n"
     ]
    }
   ],
   "source": [
    "data = data.reshape((n, n) + data.shape[1:])\n",
    "print(data.shape)"
   ]
  },
  {
   "cell_type": "code",
   "execution_count": 81,
   "metadata": {},
   "outputs": [
    {
     "name": "stdout",
     "output_type": "stream",
     "text": [
      "(1408, 1408, 3)\n"
     ]
    }
   ],
   "source": [
    "data = data.reshape((n * data.shape[2], n * data.shape[3]) + data.shape[4:])\n",
    "print(data.shape)"
   ]
  },
  {
   "cell_type": "code",
   "execution_count": 106,
   "metadata": {},
   "outputs": [
    {
     "data": {
      "text/plain": [
       "True"
      ]
     },
     "execution_count": 106,
     "metadata": {},
     "output_type": "execute_result"
    }
   ],
   "source": [
    "cv2.imwrite(SPRITES_FILE, data)"
   ]
  },
  {
   "cell_type": "code",
   "execution_count": 33,
   "metadata": {
    "collapsed": true
   },
   "outputs": [],
   "source": [
    "min = min + 1"
   ]
  },
  {
   "cell_type": "code",
   "execution_count": 34,
   "metadata": {},
   "outputs": [
    {
     "data": {
      "text/plain": [
       "array([ 1,  1,  1,  1,  1,  1,  1,  1,  1,  1,  1,  1,  1,  1,  1,  1,  1,\n",
       "        1,  1,  1,  1,  1,  1,  1,  1,  1,  1,  1,  1,  1,  1,  1,  1,  1,\n",
       "        1,  1,  0,  1,  1,  1,  1,  1,  1,  1,  1,  1,  1,  1,  1,  1,  1,\n",
       "        1,  1,  1,  1,  1,  1,  1,  1,  1,  1,  1,  1,  1,  1,  1,  1,  1,\n",
       "        1,  1,  1,  1,  1,  1,  1,  1,  1,  1,  1,  1,  1,  1,  1,  1,  1,\n",
       "        1,  1,  1,  1,  1,  1,  1,  1,  1,  1,  1,  1,  4,  1,  1,  1,  1,\n",
       "        1,  1,  1,  1,  1,  1,  1,  1,  1,  1,  1,  1,  1,  1,  1,  1,  1,\n",
       "        1,  1,  1,  1,  1,  1,  1,  1,  1,  1,  1,  1,  1,  1,  1,  3,  1,\n",
       "        1,  1,  1,  1,  1,  1,  1,  1,  1,  1,  1,  1,  1,  1,  1,  1,  1,\n",
       "        1,  1,  1,  1,  1,  1,  1,  1,  1,  1,  1,  1,  1,  1,  1,  1,  1,\n",
       "        1,  1,  1,  1,  1,  1,  1,  1,  1,  1,  0,  0,  1,  1,  1,  1,  1,\n",
       "        1,  1,  1,  1,  1,  1,  1,  1,  1,  1,  1,  1,  1,  1,  1,  1,  1,\n",
       "        1,  1,  1,  1,  1,  1,  1,  1,  1,  1,  1,  1,  1,  1,  1,  1,  1,\n",
       "        1,  1,  1,  1,  1,  1,  1,  1,  1,  1,  1,  1,  1,  1,  1,  1,  1,\n",
       "        1,  1,  1,  1,  1,  1,  1,  1,  1,  1,  1,  1,  1,  1,  1,  1,  1,\n",
       "        1,  1,  1,  1,  1,  2,  1,  1,  1,  1,  1,  1,  1,  1,  1,  1,  1,\n",
       "        1,  1,  1,  1,  1,  1,  1,  1,  1,  1,  1,  1,  1,  1,  1,  1,  1,\n",
       "        1,  1,  1,  1,  1,  1,  1,  1,  1,  1,  1,  1,  1,  1,  1,  1,  1,\n",
       "        1,  1,  1,  1,  1,  1,  1,  1,  1,  1,  1,  1,  1,  1,  1,  1,  1,\n",
       "        1,  1,  1,  1,  1,  1,  1,  1,  1,  1,  1,  1,  1,  1,  1,  4, 20,\n",
       "        1,  1,  1,  1,  1,  1,  1,  1,  1,  1,  1,  1,  1,  1,  1,  1,  1,\n",
       "        1,  1,  1,  1,  1,  1,  1,  1,  1,  1,  1,  1,  1,  1,  1,  1,  1,\n",
       "        1,  1,  1,  1,  1,  1,  1,  1,  1,  1,  1,  1,  1,  1,  1,  1,  1,\n",
       "        1,  1,  1,  1,  1,  1,  1,  1,  1,  1,  1,  1,  1,  1,  1,  1,  1,\n",
       "        1,  1,  1,  1,  1,  1,  1,  1,  1,  1,  1,  1,  1,  1,  1,  1,  1,\n",
       "        1,  1,  1,  1,  1,  1,  1,  1,  1,  1,  1,  1,  1,  1,  1,  1,  1,\n",
       "        1,  1,  1,  1,  1,  1,  1,  1,  1], dtype=uint8)"
      ]
     },
     "execution_count": 34,
     "metadata": {},
     "output_type": "execute_result"
    }
   ],
   "source": [
    "min"
   ]
  },
  {
   "cell_type": "code",
   "execution_count": 22,
   "metadata": {},
   "outputs": [
    {
     "data": {
      "text/plain": [
       "array([[[[255, 255, 255],\n",
       "         [255, 255, 255],\n",
       "         [255, 255, 255],\n",
       "         ..., \n",
       "         [255, 255, 255],\n",
       "         [255, 255, 255],\n",
       "         [255, 255, 255]],\n",
       "\n",
       "        [[255, 255, 255],\n",
       "         [255, 255, 255],\n",
       "         [255, 255, 255],\n",
       "         ..., \n",
       "         [255, 255, 255],\n",
       "         [255, 255, 255],\n",
       "         [255, 255, 255]],\n",
       "\n",
       "        [[255, 255, 255],\n",
       "         [255, 255, 255],\n",
       "         [255, 255, 255],\n",
       "         ..., \n",
       "         [255, 255, 255],\n",
       "         [255, 255, 255],\n",
       "         [255, 255, 255]],\n",
       "\n",
       "        ..., \n",
       "        [[255, 255, 255],\n",
       "         [255, 255, 255],\n",
       "         [255, 255, 255],\n",
       "         ..., \n",
       "         [255, 255, 255],\n",
       "         [255, 255, 255],\n",
       "         [255, 255, 255]],\n",
       "\n",
       "        [[255, 255, 255],\n",
       "         [255, 255, 255],\n",
       "         [255, 255, 255],\n",
       "         ..., \n",
       "         [255, 255, 255],\n",
       "         [255, 255, 255],\n",
       "         [255, 255, 255]],\n",
       "\n",
       "        [[255, 255, 255],\n",
       "         [255, 255, 255],\n",
       "         [255, 255, 255],\n",
       "         ..., \n",
       "         [255, 255, 255],\n",
       "         [255, 255, 255],\n",
       "         [255, 255, 255]]],\n",
       "\n",
       "\n",
       "       [[[255, 255, 255],\n",
       "         [255, 255, 255],\n",
       "         [255, 255, 255],\n",
       "         ..., \n",
       "         [255, 255, 255],\n",
       "         [255, 255, 255],\n",
       "         [255, 255, 255]],\n",
       "\n",
       "        [[255, 255, 255],\n",
       "         [255, 255, 255],\n",
       "         [255, 255, 255],\n",
       "         ..., \n",
       "         [255, 255, 255],\n",
       "         [255, 255, 255],\n",
       "         [255, 255, 255]],\n",
       "\n",
       "        [[255, 255, 255],\n",
       "         [255, 255, 255],\n",
       "         [255, 255, 255],\n",
       "         ..., \n",
       "         [255, 255, 255],\n",
       "         [255, 255, 255],\n",
       "         [255, 255, 255]],\n",
       "\n",
       "        ..., \n",
       "        [[255, 255, 255],\n",
       "         [255, 255, 255],\n",
       "         [255, 255, 255],\n",
       "         ..., \n",
       "         [255, 255, 255],\n",
       "         [255, 255, 255],\n",
       "         [255, 255, 255]],\n",
       "\n",
       "        [[255, 255, 255],\n",
       "         [255, 255, 255],\n",
       "         [254, 254, 254],\n",
       "         ..., \n",
       "         [255, 255, 255],\n",
       "         [255, 255, 255],\n",
       "         [255, 255, 255]],\n",
       "\n",
       "        [[255, 255, 255],\n",
       "         [255, 255, 255],\n",
       "         [255, 255, 255],\n",
       "         ..., \n",
       "         [255, 255, 255],\n",
       "         [255, 255, 255],\n",
       "         [255, 255, 255]]],\n",
       "\n",
       "\n",
       "       [[[255, 255, 255],\n",
       "         [255, 255, 255],\n",
       "         [255, 255, 255],\n",
       "         ..., \n",
       "         [255, 255, 255],\n",
       "         [255, 255, 255],\n",
       "         [255, 255, 255]],\n",
       "\n",
       "        [[255, 255, 255],\n",
       "         [255, 255, 255],\n",
       "         [255, 255, 255],\n",
       "         ..., \n",
       "         [255, 255, 255],\n",
       "         [255, 255, 255],\n",
       "         [255, 255, 255]],\n",
       "\n",
       "        [[255, 255, 255],\n",
       "         [255, 255, 255],\n",
       "         [254, 254, 254],\n",
       "         ..., \n",
       "         [255, 255, 255],\n",
       "         [255, 255, 255],\n",
       "         [255, 255, 255]],\n",
       "\n",
       "        ..., \n",
       "        [[255, 255, 255],\n",
       "         [255, 255, 255],\n",
       "         [254, 254, 254],\n",
       "         ..., \n",
       "         [255, 255, 255],\n",
       "         [255, 255, 255],\n",
       "         [255, 255, 255]],\n",
       "\n",
       "        [[255, 255, 255],\n",
       "         [255, 255, 255],\n",
       "         [255, 255, 255],\n",
       "         ..., \n",
       "         [255, 255, 255],\n",
       "         [255, 255, 255],\n",
       "         [255, 255, 255]],\n",
       "\n",
       "        [[255, 255, 255],\n",
       "         [255, 255, 255],\n",
       "         [255, 255, 255],\n",
       "         ..., \n",
       "         [255, 255, 255],\n",
       "         [255, 255, 255],\n",
       "         [255, 255, 255]]],\n",
       "\n",
       "\n",
       "       ..., \n",
       "       [[[255, 255, 255],\n",
       "         [255, 255, 255],\n",
       "         [255, 255, 255],\n",
       "         ..., \n",
       "         [255, 255, 255],\n",
       "         [255, 255, 255],\n",
       "         [255, 255, 255]],\n",
       "\n",
       "        [[255, 255, 255],\n",
       "         [255, 255, 255],\n",
       "         [255, 255, 255],\n",
       "         ..., \n",
       "         [255, 255, 255],\n",
       "         [255, 255, 255],\n",
       "         [255, 255, 255]],\n",
       "\n",
       "        [[255, 255, 255],\n",
       "         [255, 255, 255],\n",
       "         [255, 255, 255],\n",
       "         ..., \n",
       "         [255, 255, 255],\n",
       "         [255, 255, 255],\n",
       "         [255, 255, 255]],\n",
       "\n",
       "        ..., \n",
       "        [[255, 255, 255],\n",
       "         [255, 255, 255],\n",
       "         [254, 254, 254],\n",
       "         ..., \n",
       "         [255, 255, 255],\n",
       "         [255, 255, 255],\n",
       "         [255, 255, 255]],\n",
       "\n",
       "        [[255, 255, 255],\n",
       "         [255, 255, 255],\n",
       "         [255, 255, 255],\n",
       "         ..., \n",
       "         [255, 255, 255],\n",
       "         [255, 255, 255],\n",
       "         [255, 255, 255]],\n",
       "\n",
       "        [[255, 255, 255],\n",
       "         [255, 255, 255],\n",
       "         [255, 255, 255],\n",
       "         ..., \n",
       "         [255, 255, 255],\n",
       "         [255, 255, 255],\n",
       "         [255, 255, 255]]],\n",
       "\n",
       "\n",
       "       [[[255, 255, 255],\n",
       "         [255, 255, 255],\n",
       "         [255, 255, 255],\n",
       "         ..., \n",
       "         [255, 255, 255],\n",
       "         [255, 255, 255],\n",
       "         [255, 255, 255]],\n",
       "\n",
       "        [[255, 255, 255],\n",
       "         [255, 255, 255],\n",
       "         [255, 255, 255],\n",
       "         ..., \n",
       "         [255, 255, 255],\n",
       "         [255, 255, 255],\n",
       "         [255, 255, 255]],\n",
       "\n",
       "        [[255, 255, 255],\n",
       "         [255, 255, 255],\n",
       "         [255, 255, 255],\n",
       "         ..., \n",
       "         [255, 255, 255],\n",
       "         [255, 255, 255],\n",
       "         [255, 255, 255]],\n",
       "\n",
       "        ..., \n",
       "        [[255, 255, 255],\n",
       "         [255, 255, 255],\n",
       "         [255, 255, 255],\n",
       "         ..., \n",
       "         [255, 255, 255],\n",
       "         [255, 255, 255],\n",
       "         [255, 255, 255]],\n",
       "\n",
       "        [[255, 255, 255],\n",
       "         [255, 255, 255],\n",
       "         [255, 255, 255],\n",
       "         ..., \n",
       "         [255, 255, 255],\n",
       "         [255, 255, 255],\n",
       "         [255, 255, 255]],\n",
       "\n",
       "        [[255, 255, 255],\n",
       "         [255, 255, 255],\n",
       "         [255, 255, 255],\n",
       "         ..., \n",
       "         [255, 255, 255],\n",
       "         [255, 255, 255],\n",
       "         [255, 255, 255]]],\n",
       "\n",
       "\n",
       "       [[[255, 255, 255],\n",
       "         [255, 255, 255],\n",
       "         [255, 255, 255],\n",
       "         ..., \n",
       "         [255, 255, 255],\n",
       "         [255, 255, 255],\n",
       "         [255, 255, 255]],\n",
       "\n",
       "        [[255, 255, 255],\n",
       "         [255, 255, 255],\n",
       "         [255, 255, 255],\n",
       "         ..., \n",
       "         [255, 255, 255],\n",
       "         [255, 255, 255],\n",
       "         [255, 255, 255]],\n",
       "\n",
       "        [[255, 255, 255],\n",
       "         [255, 255, 255],\n",
       "         [255, 255, 255],\n",
       "         ..., \n",
       "         [255, 255, 255],\n",
       "         [255, 255, 255],\n",
       "         [255, 255, 255]],\n",
       "\n",
       "        ..., \n",
       "        [[255, 255, 255],\n",
       "         [255, 255, 255],\n",
       "         [255, 255, 255],\n",
       "         ..., \n",
       "         [255, 255, 255],\n",
       "         [255, 255, 255],\n",
       "         [255, 255, 255]],\n",
       "\n",
       "        [[255, 255, 255],\n",
       "         [255, 255, 255],\n",
       "         [254, 254, 254],\n",
       "         ..., \n",
       "         [255, 255, 255],\n",
       "         [255, 255, 255],\n",
       "         [255, 255, 255]],\n",
       "\n",
       "        [[255, 255, 255],\n",
       "         [255, 255, 255],\n",
       "         [255, 255, 255],\n",
       "         ..., \n",
       "         [255, 255, 255],\n",
       "         [255, 255, 255],\n",
       "         [255, 255, 255]]]], dtype=uint8)"
      ]
     },
     "execution_count": 22,
     "metadata": {},
     "output_type": "execute_result"
    }
   ],
   "source": [
    "data = (data.transpose(1,2,3,0) - min).transpose(3,0,1,2)"
   ]
  },
  {
   "cell_type": "code",
   "execution_count": 35,
   "metadata": {},
   "outputs": [
    {
     "data": {
      "text/plain": [
       "array([[[[254, 254, 254, ..., 254, 254, 254],\n",
       "         [254, 254, 254, ..., 254, 254, 254],\n",
       "         [254, 254, 254, ..., 254, 254, 254]],\n",
       "\n",
       "        [[254, 254, 254, ..., 254, 254, 254],\n",
       "         [254, 254, 254, ..., 254, 254, 254],\n",
       "         [254, 254, 254, ..., 254, 254, 254]],\n",
       "\n",
       "        [[254, 254, 254, ..., 254, 254, 254],\n",
       "         [254, 254, 254, ..., 254, 254, 254],\n",
       "         [254, 254, 254, ..., 254, 254, 254]],\n",
       "\n",
       "        ..., \n",
       "        [[254, 254, 254, ..., 254, 254, 254],\n",
       "         [254, 254, 254, ..., 254, 254, 254],\n",
       "         [254, 254, 254, ..., 254, 254, 254]],\n",
       "\n",
       "        [[254, 254, 254, ..., 254, 254, 254],\n",
       "         [254, 254, 254, ..., 254, 254, 254],\n",
       "         [254, 254, 254, ..., 254, 254, 254]],\n",
       "\n",
       "        [[254, 254, 254, ..., 254, 254, 254],\n",
       "         [254, 254, 254, ..., 254, 254, 254],\n",
       "         [254, 254, 254, ..., 254, 254, 254]]],\n",
       "\n",
       "\n",
       "       [[[254, 254, 254, ..., 254, 254, 254],\n",
       "         [254, 254, 254, ..., 254, 254, 254],\n",
       "         [254, 254, 254, ..., 254, 254, 254]],\n",
       "\n",
       "        [[254, 254, 254, ..., 254, 254, 254],\n",
       "         [254, 254, 254, ..., 254, 254, 254],\n",
       "         [254, 254, 254, ..., 254, 254, 254]],\n",
       "\n",
       "        [[254, 254, 254, ..., 254, 254, 254],\n",
       "         [254, 254, 254, ..., 254, 254, 254],\n",
       "         [254, 254, 254, ..., 254, 254, 254]],\n",
       "\n",
       "        ..., \n",
       "        [[254, 254, 254, ..., 254, 254, 254],\n",
       "         [254, 254, 254, ..., 254, 254, 254],\n",
       "         [254, 254, 254, ..., 254, 254, 254]],\n",
       "\n",
       "        [[254, 254, 254, ..., 254, 254, 254],\n",
       "         [254, 254, 254, ..., 254, 254, 254],\n",
       "         [254, 254, 254, ..., 254, 254, 254]],\n",
       "\n",
       "        [[254, 254, 254, ..., 254, 254, 254],\n",
       "         [254, 254, 254, ..., 254, 254, 254],\n",
       "         [254, 254, 254, ..., 254, 254, 254]]],\n",
       "\n",
       "\n",
       "       [[[254, 254, 254, ..., 254, 254, 254],\n",
       "         [254, 254, 254, ..., 254, 254, 254],\n",
       "         [254, 254, 254, ..., 254, 254, 254]],\n",
       "\n",
       "        [[254, 254, 254, ..., 254, 254, 254],\n",
       "         [254, 254, 254, ..., 254, 254, 254],\n",
       "         [254, 254, 254, ..., 254, 254, 254]],\n",
       "\n",
       "        [[254, 254, 253, ..., 254, 254, 254],\n",
       "         [254, 254, 253, ..., 254, 254, 254],\n",
       "         [254, 254, 253, ..., 254, 254, 254]],\n",
       "\n",
       "        ..., \n",
       "        [[254, 254, 254, ..., 254, 254, 254],\n",
       "         [254, 254, 254, ..., 254, 254, 254],\n",
       "         [254, 254, 254, ..., 254, 254, 254]],\n",
       "\n",
       "        [[254, 254, 254, ..., 254, 254, 254],\n",
       "         [254, 254, 254, ..., 254, 254, 254],\n",
       "         [254, 254, 254, ..., 254, 254, 254]],\n",
       "\n",
       "        [[254, 254, 254, ..., 254, 254, 254],\n",
       "         [254, 254, 254, ..., 254, 254, 254],\n",
       "         [254, 254, 254, ..., 254, 254, 254]]],\n",
       "\n",
       "\n",
       "       ..., \n",
       "       [[[254, 254, 254, ..., 254, 254, 254],\n",
       "         [254, 254, 254, ..., 254, 254, 254],\n",
       "         [254, 254, 254, ..., 254, 254, 254]],\n",
       "\n",
       "        [[254, 254, 254, ..., 254, 254, 254],\n",
       "         [254, 254, 254, ..., 254, 254, 254],\n",
       "         [254, 254, 254, ..., 254, 254, 254]],\n",
       "\n",
       "        [[254, 254, 253, ..., 253, 254, 254],\n",
       "         [254, 254, 253, ..., 253, 254, 254],\n",
       "         [254, 254, 253, ..., 253, 254, 254]],\n",
       "\n",
       "        ..., \n",
       "        [[254, 254, 254, ..., 254, 254, 254],\n",
       "         [254, 254, 254, ..., 254, 254, 254],\n",
       "         [254, 254, 254, ..., 254, 254, 254]],\n",
       "\n",
       "        [[254, 254, 254, ..., 254, 254, 254],\n",
       "         [254, 254, 254, ..., 254, 254, 254],\n",
       "         [254, 254, 254, ..., 254, 254, 254]],\n",
       "\n",
       "        [[254, 254, 254, ..., 254, 254, 254],\n",
       "         [254, 254, 254, ..., 254, 254, 254],\n",
       "         [254, 254, 254, ..., 254, 254, 254]]],\n",
       "\n",
       "\n",
       "       [[[254, 254, 254, ..., 254, 254, 254],\n",
       "         [254, 254, 254, ..., 254, 254, 254],\n",
       "         [254, 254, 254, ..., 254, 254, 254]],\n",
       "\n",
       "        [[254, 254, 254, ..., 254, 254, 254],\n",
       "         [254, 254, 254, ..., 254, 254, 254],\n",
       "         [254, 254, 254, ..., 254, 254, 254]],\n",
       "\n",
       "        [[254, 253, 254, ..., 254, 254, 253],\n",
       "         [254, 253, 254, ..., 254, 254, 253],\n",
       "         [254, 253, 254, ..., 254, 254, 253]],\n",
       "\n",
       "        ..., \n",
       "        [[254, 254, 254, ..., 254, 254, 254],\n",
       "         [254, 254, 254, ..., 254, 254, 254],\n",
       "         [254, 254, 254, ..., 254, 254, 254]],\n",
       "\n",
       "        [[254, 254, 254, ..., 254, 254, 254],\n",
       "         [254, 254, 254, ..., 254, 254, 254],\n",
       "         [254, 254, 254, ..., 254, 254, 254]],\n",
       "\n",
       "        [[254, 254, 254, ..., 254, 254, 254],\n",
       "         [254, 254, 254, ..., 254, 254, 254],\n",
       "         [254, 254, 254, ..., 254, 254, 254]]],\n",
       "\n",
       "\n",
       "       [[[254, 254, 254, ..., 254, 254, 254],\n",
       "         [254, 254, 254, ..., 254, 254, 254],\n",
       "         [254, 254, 254, ..., 254, 254, 254]],\n",
       "\n",
       "        [[254, 254, 254, ..., 254, 254, 254],\n",
       "         [254, 254, 254, ..., 254, 254, 254],\n",
       "         [254, 254, 254, ..., 254, 254, 254]],\n",
       "\n",
       "        [[254, 254, 254, ..., 254, 254, 254],\n",
       "         [254, 254, 254, ..., 254, 254, 254],\n",
       "         [254, 254, 254, ..., 254, 254, 254]],\n",
       "\n",
       "        ..., \n",
       "        [[254, 254, 254, ..., 254, 254, 254],\n",
       "         [254, 254, 254, ..., 254, 254, 254],\n",
       "         [254, 254, 254, ..., 254, 254, 254]],\n",
       "\n",
       "        [[254, 254, 254, ..., 254, 254, 254],\n",
       "         [254, 254, 254, ..., 254, 254, 254],\n",
       "         [254, 254, 254, ..., 254, 254, 254]],\n",
       "\n",
       "        [[254, 254, 254, ..., 254, 254, 254],\n",
       "         [254, 254, 254, ..., 254, 254, 254],\n",
       "         [254, 254, 254, ..., 254, 254, 254]]]], dtype=uint8)"
      ]
     },
     "execution_count": 35,
     "metadata": {},
     "output_type": "execute_result"
    }
   ],
   "source": [
    "data.transpose(1,2,3,0) - min"
   ]
  },
  {
   "cell_type": "code",
   "execution_count": 12,
   "metadata": {},
   "outputs": [
    {
     "name": "stderr",
     "output_type": "stream",
     "text": [
      "/Users/andrewmartin/.virtualenvs/ml/lib/python3.6/site-packages/ipykernel_launcher.py:10: RuntimeWarning: invalid value encountered in true_divide\n",
      "  # Remove the CWD from sys.path while we load stuff.\n"
     ]
    },
    {
     "data": {
      "text/plain": [
       "True"
      ]
     },
     "execution_count": 12,
     "metadata": {},
     "output_type": "execute_result"
    }
   ],
   "source": [
    "IMAGE_SIZE = (64, 64)\n",
    "SPRITES_FILE = os.path.join(LOG_DIR, 'sprites_1.png')\n",
    "\n",
    "img_data=[]\n",
    "for img in image_files[:NUMBER_SAMPLES]:\n",
    "    input_img = cv2.imread(img)\n",
    "    input_img_resize = cv2.resize(input_img, IMAGE_SIZE) # you can choose what size to resize your data\n",
    "    img_data.append(input_img_resize)\n",
    "img_data = np.array(img_data)\n",
    "\n",
    "sprite = images_to_sprite(img_data)\n",
    "cv2.imwrite(SPRITES_FILE, sprite)"
   ]
  },
  {
   "cell_type": "code",
   "execution_count": 14,
   "metadata": {
    "collapsed": true
   },
   "outputs": [],
   "source": [
    "# Write summaries for tensorboard\n",
    "CHECKPOINT_FILE = os.path.join(LOG_DIR, 'logos_1.ckpt')\n",
    "\n",
    "with tf.Session() as sess:\n",
    "    saver = tf.train.Saver([features])\n",
    "\n",
    "    sess.run(features.initializer)\n",
    "    saver.save(sess, CHECKPOINT_FILE)\n",
    "\n",
    "    config = projector.ProjectorConfig()\n",
    "    embedding = config.embeddings.add()\n",
    "    embedding.tensor_name = features.name\n",
    "    embedding.metadata_path = METADATA_FILE\n",
    "\n",
    "    # This adds the sprite images\n",
    "    embedding.sprite.image_path = SPRITES_FILE\n",
    "    embedding.sprite.single_image_dim.extend(IMAGE_SIZE)\n",
    "    projector.visualize_embeddings(tf.summary.FileWriter(LOG_DIR), config)"
   ]
  }
 ],
 "metadata": {
  "kernelspec": {
   "display_name": "Python 3",
   "language": "python",
   "name": "python3"
  },
  "language_info": {
   "codemirror_mode": {
    "name": "ipython",
    "version": 3
   },
   "file_extension": ".py",
   "mimetype": "text/x-python",
   "name": "python",
   "nbconvert_exporter": "python",
   "pygments_lexer": "ipython3",
   "version": "3.6.0"
  }
 },
 "nbformat": 4,
 "nbformat_minor": 2
}
