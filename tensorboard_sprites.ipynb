{
 "cells": [
  {
   "cell_type": "code",
   "execution_count": 2,
   "metadata": {},
   "outputs": [],
   "source": [
    "import os\n",
    "import glob\n",
    "\n",
    "import cv2\n",
    "import numpy as np\n",
    "import tensorflow as tf\n",
    "from tensorflow.contrib.tensorboard.plugins import projector"
   ]
  },
  {
   "cell_type": "code",
   "execution_count": null,
   "metadata": {
    "collapsed": true
   },
   "outputs": [],
   "source": [
    "LOG_DIR = \"./tensorboard-logs\"\n",
    "IMAGES_DIR = \"./XO_images\"\n",
    "IMAGE_SIZE = (64, 64)\n",
    "SPRITES_FILE = os.path.join(LOG_DIR, \"sprites.png\")\n",
    "FEATURE_VECTORS = \"feature_vectors.npy\"\n",
    "METADATA_FILE = os.path.join(LOG_DIR, 'metadata.tsv')\n",
    "CHECKPOINT_FILE = os.path.join(LOG_DIR, 'features.ckpt')\n",
    "\n",
    "# Max sprite size is 8192 x 8192 so this max samples makes visualization easy\n",
    "MAX_NUMBER_SAMPLES = 8191 "
   ]
  },
  {
   "cell_type": "code",
   "execution_count": null,
   "metadata": {
    "collapsed": true
   },
   "outputs": [],
   "source": [
    "def create_sprite(data):\n",
    "    \"\"\"\n",
    "    Tile images into sprite image. \n",
    "    Add any necessary padding\n",
    "    \"\"\"\n",
    "    \n",
    "    # For B&W or greyscale images\n",
    "    if len(data.shape) == 3:\n",
    "        data = np.tile(data[...,np.newaxis], (1,1,1,3))\n",
    "\n",
    "    n = int(np.ceil(np.sqrt(data.shape[0])))\n",
    "    padding = ((0, n ** 2 - data.shape[0]), (0, 0), (0, 0), (0, 0))\n",
    "    data = np.pad(data, padding, mode='constant',\n",
    "            constant_values=0)\n",
    "    \n",
    "    # Tile images into sprite\n",
    "    data = data.reshape((n, n) + data.shape[1:]).transpose((0, 2, 1, 3, 4))\n",
    "    # print(data.shape) => (n, image_height, n, image_width, 3)\n",
    "    \n",
    "    data = data.reshape((n * data.shape[1], n * data.shape[3]) + data.shape[4:])\n",
    "    # print(data.shape) => (n * image_height, n * image_width, 3) \n",
    "    return data"
   ]
  },
  {
   "cell_type": "code",
   "execution_count": 3,
   "metadata": {},
   "outputs": [
    {
     "data": {
      "text/plain": [
       "True"
      ]
     },
     "execution_count": 3,
     "metadata": {},
     "output_type": "execute_result"
    }
   ],
   "source": [
    "# Create sprite image\n",
    "\n",
    "image_files = glob.glob(os.path.join(IMAGES_DIR, \"*.png\"))\n",
    "\n",
    "img_data = []\n",
    "for img in image_files[:MAX_NUMBER_SAMPLES]:\n",
    "    input_img = cv2.imread(img)\n",
    "    input_img_resize = cv2.resize(input_img, IMAGE_SIZE) \n",
    "    img_data.append(input_img_resize)\n",
    "img_data = np.array(img_data)\n",
    "\n",
    "sprite = create_sprite(img_data)\n",
    "cv2.imwrite(SPRITES_FILE, sprite)"
   ]
  },
  {
   "cell_type": "code",
   "execution_count": 6,
   "metadata": {},
   "outputs": [],
   "source": [
    "# Create metadata, configure for tensorboard embedding\n",
    "\n",
    "# Create metadata\n",
    "# Can include class data in here if interested / have available\n",
    "with open(METADATA_FILE, 'w+') as wrf:\n",
    "    wrf.write(\"\\n\".join([str(a) for a,i in enumerate(image_files[:MAX_NUMBER_SAMPLES])]))\n",
    "\n",
    "feature_vectors = np.load(FEATURE_VECTORS)\n",
    "\n",
    "features = tf.Variable(feature_vectors[:MAX_NUMBER_SAMPLES], name='features')\n",
    "\n",
    "# Write summaries for tensorboard\n",
    "with tf.Session() as sess:\n",
    "    saver = tf.train.Saver([features])\n",
    "\n",
    "    sess.run(features.initializer)\n",
    "    saver.save(sess, CHECKPOINT_FILE)\n",
    "\n",
    "    config = projector.ProjectorConfig()\n",
    "    embedding = config.embeddings.add()\n",
    "    embedding.tensor_name = features.name\n",
    "    embedding.metadata_path = METADATA_FILE\n",
    "\n",
    "    # This adds the sprite images\n",
    "    embedding.sprite.image_path = SPRITES_FILE\n",
    "    embedding.sprite.single_image_dim.extend(IMAGE_SIZE)\n",
    "    projector.visualize_embeddings(tf.summary.FileWriter(LOG_DIR), config)"
   ]
  }
 ],
 "metadata": {
  "kernelspec": {
   "display_name": "Python 3",
   "language": "python",
   "name": "python3"
  },
  "language_info": {
   "codemirror_mode": {
    "name": "ipython",
    "version": 3
   },
   "file_extension": ".py",
   "mimetype": "text/x-python",
   "name": "python",
   "nbconvert_exporter": "python",
   "pygments_lexer": "ipython3",
   "version": "3.6.0"
  }
 },
 "nbformat": 4,
 "nbformat_minor": 2
}
